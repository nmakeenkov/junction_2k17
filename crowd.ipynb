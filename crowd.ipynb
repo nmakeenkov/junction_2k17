{
 "cells": [
  {
   "cell_type": "code",
   "execution_count": null,
   "metadata": {
    "collapsed": true
   },
   "outputs": [],
   "source": []
  },
  {
   "cell_type": "code",
   "execution_count": null,
   "metadata": {
    "collapsed": true
   },
   "outputs": [],
   "source": [
    "%matplotlib inline"
   ]
  },
  {
   "cell_type": "code",
   "execution_count": null,
   "metadata": {
    "collapsed": true
   },
   "outputs": [],
   "source": []
  },
  {
   "cell_type": "code",
   "execution_count": null,
   "metadata": {
    "collapsed": true
   },
   "outputs": [],
   "source": []
  },
  {
   "cell_type": "code",
   "execution_count": null,
   "metadata": {
    "collapsed": true
   },
   "outputs": [],
   "source": []
  },
  {
   "cell_type": "code",
   "execution_count": null,
   "metadata": {
    "collapsed": true
   },
   "outputs": [],
   "source": []
  },
  {
   "cell_type": "code",
   "execution_count": null,
   "metadata": {
    "collapsed": true
   },
   "outputs": [],
   "source": [
    "print 'left to right:', prev, new, self.ptstart, self.ptend"
   ]
  },
  {
   "cell_type": "code",
   "execution_count": null,
   "metadata": {
    "collapsed": true
   },
   "outputs": [],
   "source": [
    "left to right: [299.88591767598223, 243.12342635383609] \n",
    "    [300.37024553911095, 243.01761510775461] (300.0, 250.0) (300.0, 350.0)\n",
    "    \n",
    "    \n",
    "left to right: [299.71026968367244, 473.45196003566986] \n",
    "    [300.27775972859081, 473.82459706590669] (300.0, 250.0) (300.0, 350.0)\n",
    "    \n",
    "left to right: [299.25572713637376, 382.51697273695476] \n",
    "    [300.05594871441008, 383.30351288095881] (300.0, 50.0) (300.0, 150.0)\n",
    "    \n",
    "    \n",
    "left to right: [299.80262163737905, 412.72746486919095] \n",
    "    [300.35706418484477, 413.02936260100836] (300.0, 250.0) (300.0, 350.0)\n"
   ]
  },
  {
   "cell_type": "code",
   "execution_count": null,
   "metadata": {
    "collapsed": true
   },
   "outputs": [],
   "source": []
  },
  {
   "cell_type": "code",
   "execution_count": null,
   "metadata": {
    "collapsed": true
   },
   "outputs": [],
   "source": []
  },
  {
   "cell_type": "code",
   "execution_count": null,
   "metadata": {
    "collapsed": true
   },
   "outputs": [],
   "source": []
  },
  {
   "cell_type": "code",
   "execution_count": null,
   "metadata": {
    "collapsed": true
   },
   "outputs": [],
   "source": []
  },
  {
   "cell_type": "code",
   "execution_count": 23,
   "metadata": {
    "collapsed": true
   },
   "outputs": [],
   "source": [
    "from copy import deepcopy\n",
    "from collections import Counter\n",
    "import json\n",
    "\n",
    "from IPython.display import clear_output\n",
    "from matplotlib import pyplot as plt\n",
    "from scipy.stats import norm\n",
    "import numpy as np\n",
    "\n",
    "names = [\n",
    "    'pidr',\n",
    "    'loh',\n",
    "    'uebok',\n",
    "    'gnida',\n",
    "    'govno',\n",
    "    'zalupa',\n",
    "    'penis',\n",
    "    'her',\n",
    "    'davalka',\n",
    "    'ochko',\n",
    "]\n",
    "\n",
    "room_names = {\n",
    "    '-1': 'prachechnaya',\n",
    "    '1': 'hata',\n",
    "    '2': 'parasha',\n",
    "}\n",
    "\n",
    "class Door(object):\n",
    "    # vertical\n",
    "    \n",
    "    def __init__(self, ptstart, ptend, left_rn, right_rn):\n",
    "        self.ptstart = ptstart\n",
    "        self.ptend = ptend\n",
    "        self.left_rn = left_rn\n",
    "        self.right_rn = right_rn\n",
    "        \n",
    "        \n",
    "    def check_trace(self, prev, new):\n",
    "        if prev[0] == new[0]:\n",
    "            return None\n",
    "        dx=(prev[0]-new[0])\n",
    "        a=(prev[1]-new[1])/dx\n",
    "\n",
    "        b = prev[1] - a*prev[0]\n",
    "\n",
    "        y_inter=self.ptstart[0]*a+b\n",
    "\n",
    "        if self.ptstart[1] < y_inter < self.ptend[1]:\n",
    "            left_to_right = (prev[0] < self.ptend[0] and new[0] > self.ptend[0])\n",
    "            right_to_left = (new[0] < self.ptend[0] and prev[0] > self.ptend[0])\n",
    "            if left_to_right:\n",
    "                return self.right_rn\n",
    "            if right_to_left:\n",
    "                return self.left_rn\n",
    "        return None\n",
    "\n",
    "    \n",
    "class Room(object):\n",
    "    # если одна внутри другой, то сначала должна быть внешняя\n",
    "    def __init__(self, area_w, area_h, left_upper, right_bottom, my_num):\n",
    "        self.area_w=area_w\n",
    "        self.area_h=area_h\n",
    "        self.left_upper=left_upper\n",
    "        self.right_bottom=right_bottom\n",
    "        \n",
    "        self.my_num=my_num\n",
    "\n",
    "        self.walls = {}\n",
    "        self.walls['left'] = lambda x,y: x > left_upper[0]\n",
    "        self.walls['right'] = lambda x,y: x < right_bottom[0]\n",
    "        self.walls['upper'] = lambda x,y: y < left_upper[1]\n",
    "        self.walls['bottom'] = lambda x,y: y > right_bottom[1]\n",
    "\n",
    "    def is_inside_room(self, x, y):\n",
    "        inside = True\n",
    "        for wall,checker in self.walls.items():\n",
    "            inside = inside and checker(x,y)\n",
    "        return inside\n",
    "\n",
    "    \n",
    "class Area(object):\n",
    "    def __init__(self, w, h, people_number, speed=1.):\n",
    "        self.w=w\n",
    "        self.h=h\n",
    "        self.people_number=people_number\n",
    "        self.speed=speed\n",
    "        self.X_crowd = np.random.randint(0, w, size=people_number)*1.\n",
    "        self.Y_crowd = np.random.randint(0, h, size=people_number)*1.\n",
    "        self.X_crowd_directions = np.zeros(people_number)\n",
    "        self.Y_crowd_directions = np.zeros(people_number)\n",
    "        self.rooms = []\n",
    "        \n",
    "    \n",
    "    def init_rooms(self, rooms):\n",
    "        self.rooms = rooms\n",
    "        self.crowd_rooms = [\n",
    "            self.get_room_number(x,y) \n",
    "            for x,y in zip(self.X_crowd, self.Y_crowd)\n",
    "        ]\n",
    "    \n",
    "    def init_doors(self, doors):\n",
    "        self.doors = doors\n",
    "        \n",
    "    def get_room_number(self,x,y):\n",
    "        for room in self.rooms:\n",
    "            ans = room.is_inside_room(x,y)\n",
    "            if ans:\n",
    "                return room.my_num\n",
    "        return -1\n",
    "\n",
    "\n",
    "\n",
    "    def make_iteration(self):\n",
    "        prev_X = self.X_crowd.copy()\n",
    "        prev_Y = self.Y_crowd.copy()\n",
    "        \n",
    "        addit = norm.rvs(0., self.speed, size=self.people_number)\n",
    "        self.X_crowd_directions = 0.9*self.X_crowd_directions + 0.1*addit\n",
    "        self.X_crowd += self.X_crowd_directions\n",
    "        \n",
    "        addit = norm.rvs(0., self.speed, size=self.people_number)\n",
    "        self.Y_crowd_directions = 0.9*self.Y_crowd_directions + 0.1*addit\n",
    "        self.Y_crowd += self.Y_crowd_directions\n",
    "\n",
    "        self.X_crowd = [max([self.w*0.01,min([self.w*0.99,x])]) for x in self.X_crowd]\n",
    "        self.Y_crowd = [max([self.h*0.01,min([self.h*0.99,y])]) for y in self.Y_crowd]\n",
    "        \n",
    "        \n",
    "        \n",
    "        new_X, new_Y = [],[]\n",
    "        for p, coords in enumerate(zip(self.X_crowd, self.Y_crowd)):\n",
    "            x,y = coords\n",
    "            rn = self.get_room_number(x,y)\n",
    "            prev_room_number = self.crowd_rooms[p]\n",
    "            if not rn == prev_room_number:\n",
    "                any_res = False\n",
    "                for door in self.doors:\n",
    "                    res = door.check_trace([prev_X[p], prev_Y[p]], [x,y])\n",
    "                    if res is None:\n",
    "                        continue\n",
    "                    else:\n",
    "                        any_res = True\n",
    "                        self.crowd_rooms[p] = res\n",
    "                        \n",
    "                if not any_res:\n",
    "                    x = prev_X[p]\n",
    "                    y = prev_Y[p]\n",
    "                if not (0 < x < self.w) or not (0 < y < self.h):\n",
    "                    x = prev_X[p]\n",
    "                    y = prev_Y[p]\n",
    "            new_X += [x]\n",
    "            new_Y += [y]\n",
    "        self.X_crowd = np.array(new_X, dtype='float64')\n",
    "        self.Y_crowd = np.array(new_Y, dtype='float64')\n",
    "        \n",
    "w,h=100,100\n",
    "\n",
    "area = Area(\n",
    "    w=w,\n",
    "    h=h,\n",
    "    people_number=10,\n",
    "    speed=3.\n",
    ")\n",
    "\n",
    "\n",
    "rooms = [\n",
    "    Room(\n",
    "        area_w=w, \n",
    "        area_h=h,\n",
    "        left_upper=(0,h),\n",
    "        right_bottom=(w*.3,0),\n",
    "        my_num=1,\n",
    "    ),\n",
    "    Room(\n",
    "        area_w=w, \n",
    "        area_h=h,\n",
    "        left_upper=(w*.6,h),\n",
    "        right_bottom=(w,0),\n",
    "        my_num=2,\n",
    "    )\n",
    "]\n",
    "\n",
    "doors = [\n",
    "    Door(\n",
    "        ptstart=(30,20),\n",
    "        ptend=(30,40),\n",
    "        left_rn=1,\n",
    "        right_rn=-1\n",
    "    ),\n",
    "        Door(\n",
    "        ptstart=(60,60),\n",
    "        ptend=(60,80),\n",
    "        left_rn=-1,\n",
    "        right_rn=2\n",
    "    )\n",
    "]\n",
    "\n",
    "\n",
    "\n",
    "area.init_rooms(rooms)\n",
    "area.init_doors(doors)\n",
    "\n",
    "\n"
   ]
  },
  {
   "cell_type": "code",
   "execution_count": 24,
   "metadata": {
    "scrolled": false
   },
   "outputs": [
    {
     "ename": "KeyboardInterrupt",
     "evalue": "",
     "output_type": "error",
     "traceback": [
      "\u001b[0;31m---------------------------------------------------------------------------\u001b[0m",
      "\u001b[0;31mKeyboardInterrupt\u001b[0m                         Traceback (most recent call last)",
      "\u001b[0;32m<ipython-input-24-7b7fc5730fa0>\u001b[0m in \u001b[0;36m<module>\u001b[0;34m()\u001b[0m\n\u001b[1;32m     35\u001b[0m \u001b[0;31m#         )\u001b[0m\u001b[0;34m\u001b[0m\u001b[0;34m\u001b[0m\u001b[0m\n\u001b[1;32m     36\u001b[0m \u001b[0;34m\u001b[0m\u001b[0m\n\u001b[0;32m---> 37\u001b[0;31m     \u001b[0mplt\u001b[0m\u001b[0;34m.\u001b[0m\u001b[0mshow\u001b[0m\u001b[0;34m(\u001b[0m\u001b[0;34m)\u001b[0m\u001b[0;34m\u001b[0m\u001b[0m\n\u001b[0m\u001b[1;32m     38\u001b[0m \u001b[0;34m\u001b[0m\u001b[0m\n\u001b[1;32m     39\u001b[0m     \u001b[0marea\u001b[0m\u001b[0;34m.\u001b[0m\u001b[0mmake_iteration\u001b[0m\u001b[0;34m(\u001b[0m\u001b[0;34m)\u001b[0m\u001b[0;34m\u001b[0m\u001b[0m\n",
      "\u001b[0;32m/anaconda/lib/python2.7/site-packages/matplotlib/pyplot.pyc\u001b[0m in \u001b[0;36mshow\u001b[0;34m(*args, **kw)\u001b[0m\n\u001b[1;32m    249\u001b[0m     \"\"\"\n\u001b[1;32m    250\u001b[0m     \u001b[0;32mglobal\u001b[0m \u001b[0m_show\u001b[0m\u001b[0;34m\u001b[0m\u001b[0m\n\u001b[0;32m--> 251\u001b[0;31m     \u001b[0;32mreturn\u001b[0m \u001b[0m_show\u001b[0m\u001b[0;34m(\u001b[0m\u001b[0;34m*\u001b[0m\u001b[0margs\u001b[0m\u001b[0;34m,\u001b[0m \u001b[0;34m**\u001b[0m\u001b[0mkw\u001b[0m\u001b[0;34m)\u001b[0m\u001b[0;34m\u001b[0m\u001b[0m\n\u001b[0m\u001b[1;32m    252\u001b[0m \u001b[0;34m\u001b[0m\u001b[0m\n\u001b[1;32m    253\u001b[0m \u001b[0;34m\u001b[0m\u001b[0m\n",
      "\u001b[0;32m/anaconda/lib/python2.7/site-packages/ipykernel/pylab/backend_inline.pyc\u001b[0m in \u001b[0;36mshow\u001b[0;34m(close, block)\u001b[0m\n\u001b[1;32m     34\u001b[0m     \u001b[0;32mtry\u001b[0m\u001b[0;34m:\u001b[0m\u001b[0;34m\u001b[0m\u001b[0m\n\u001b[1;32m     35\u001b[0m         \u001b[0;32mfor\u001b[0m \u001b[0mfigure_manager\u001b[0m \u001b[0;32min\u001b[0m \u001b[0mGcf\u001b[0m\u001b[0;34m.\u001b[0m\u001b[0mget_all_fig_managers\u001b[0m\u001b[0;34m(\u001b[0m\u001b[0;34m)\u001b[0m\u001b[0;34m:\u001b[0m\u001b[0;34m\u001b[0m\u001b[0m\n\u001b[0;32m---> 36\u001b[0;31m             \u001b[0mdisplay\u001b[0m\u001b[0;34m(\u001b[0m\u001b[0mfigure_manager\u001b[0m\u001b[0;34m.\u001b[0m\u001b[0mcanvas\u001b[0m\u001b[0;34m.\u001b[0m\u001b[0mfigure\u001b[0m\u001b[0;34m)\u001b[0m\u001b[0;34m\u001b[0m\u001b[0m\n\u001b[0m\u001b[1;32m     37\u001b[0m     \u001b[0;32mfinally\u001b[0m\u001b[0;34m:\u001b[0m\u001b[0;34m\u001b[0m\u001b[0m\n\u001b[1;32m     38\u001b[0m         \u001b[0mshow\u001b[0m\u001b[0;34m.\u001b[0m\u001b[0m_to_draw\u001b[0m \u001b[0;34m=\u001b[0m \u001b[0;34m[\u001b[0m\u001b[0;34m]\u001b[0m\u001b[0;34m\u001b[0m\u001b[0m\n",
      "\u001b[0;32m/anaconda/lib/python2.7/site-packages/IPython/core/display.pyc\u001b[0m in \u001b[0;36mdisplay\u001b[0;34m(*objs, **kwargs)\u001b[0m\n\u001b[1;32m    304\u001b[0m             \u001b[0mpublish_display_data\u001b[0m\u001b[0;34m(\u001b[0m\u001b[0mdata\u001b[0m\u001b[0;34m=\u001b[0m\u001b[0mobj\u001b[0m\u001b[0;34m,\u001b[0m \u001b[0mmetadata\u001b[0m\u001b[0;34m=\u001b[0m\u001b[0mmetadata\u001b[0m\u001b[0;34m,\u001b[0m \u001b[0;34m**\u001b[0m\u001b[0mkwargs\u001b[0m\u001b[0;34m)\u001b[0m\u001b[0;34m\u001b[0m\u001b[0m\n\u001b[1;32m    305\u001b[0m         \u001b[0;32melse\u001b[0m\u001b[0;34m:\u001b[0m\u001b[0;34m\u001b[0m\u001b[0m\n\u001b[0;32m--> 306\u001b[0;31m             \u001b[0mformat_dict\u001b[0m\u001b[0;34m,\u001b[0m \u001b[0mmd_dict\u001b[0m \u001b[0;34m=\u001b[0m \u001b[0mformat\u001b[0m\u001b[0;34m(\u001b[0m\u001b[0mobj\u001b[0m\u001b[0;34m,\u001b[0m \u001b[0minclude\u001b[0m\u001b[0;34m=\u001b[0m\u001b[0minclude\u001b[0m\u001b[0;34m,\u001b[0m \u001b[0mexclude\u001b[0m\u001b[0;34m=\u001b[0m\u001b[0mexclude\u001b[0m\u001b[0;34m)\u001b[0m\u001b[0;34m\u001b[0m\u001b[0m\n\u001b[0m\u001b[1;32m    307\u001b[0m             \u001b[0;32mif\u001b[0m \u001b[0;32mnot\u001b[0m \u001b[0mformat_dict\u001b[0m\u001b[0;34m:\u001b[0m\u001b[0;34m\u001b[0m\u001b[0m\n\u001b[1;32m    308\u001b[0m                 \u001b[0;31m# nothing to display (e.g. _ipython_display_ took over)\u001b[0m\u001b[0;34m\u001b[0m\u001b[0;34m\u001b[0m\u001b[0m\n",
      "\u001b[0;32m/anaconda/lib/python2.7/site-packages/IPython/core/formatters.pyc\u001b[0m in \u001b[0;36mformat\u001b[0;34m(self, obj, include, exclude)\u001b[0m\n\u001b[1;32m    171\u001b[0m             \u001b[0mmd\u001b[0m \u001b[0;34m=\u001b[0m \u001b[0mNone\u001b[0m\u001b[0;34m\u001b[0m\u001b[0m\n\u001b[1;32m    172\u001b[0m             \u001b[0;32mtry\u001b[0m\u001b[0;34m:\u001b[0m\u001b[0;34m\u001b[0m\u001b[0m\n\u001b[0;32m--> 173\u001b[0;31m                 \u001b[0mdata\u001b[0m \u001b[0;34m=\u001b[0m \u001b[0mformatter\u001b[0m\u001b[0;34m(\u001b[0m\u001b[0mobj\u001b[0m\u001b[0;34m)\u001b[0m\u001b[0;34m\u001b[0m\u001b[0m\n\u001b[0m\u001b[1;32m    174\u001b[0m             \u001b[0;32mexcept\u001b[0m\u001b[0;34m:\u001b[0m\u001b[0;34m\u001b[0m\u001b[0m\n\u001b[1;32m    175\u001b[0m                 \u001b[0;31m# FIXME: log the exception\u001b[0m\u001b[0;34m\u001b[0m\u001b[0;34m\u001b[0m\u001b[0m\n",
      "\u001b[0;32m<decorator-gen-9>\u001b[0m in \u001b[0;36m__call__\u001b[0;34m(self, obj)\u001b[0m\n",
      "\u001b[0;32m/anaconda/lib/python2.7/site-packages/IPython/core/formatters.pyc\u001b[0m in \u001b[0;36mcatch_format_error\u001b[0;34m(method, self, *args, **kwargs)\u001b[0m\n\u001b[1;32m    215\u001b[0m     \u001b[0;34m\"\"\"show traceback on failed format call\"\"\"\u001b[0m\u001b[0;34m\u001b[0m\u001b[0m\n\u001b[1;32m    216\u001b[0m     \u001b[0;32mtry\u001b[0m\u001b[0;34m:\u001b[0m\u001b[0;34m\u001b[0m\u001b[0m\n\u001b[0;32m--> 217\u001b[0;31m         \u001b[0mr\u001b[0m \u001b[0;34m=\u001b[0m \u001b[0mmethod\u001b[0m\u001b[0;34m(\u001b[0m\u001b[0mself\u001b[0m\u001b[0;34m,\u001b[0m \u001b[0;34m*\u001b[0m\u001b[0margs\u001b[0m\u001b[0;34m,\u001b[0m \u001b[0;34m**\u001b[0m\u001b[0mkwargs\u001b[0m\u001b[0;34m)\u001b[0m\u001b[0;34m\u001b[0m\u001b[0m\n\u001b[0m\u001b[1;32m    218\u001b[0m     \u001b[0;32mexcept\u001b[0m \u001b[0mNotImplementedError\u001b[0m\u001b[0;34m:\u001b[0m\u001b[0;34m\u001b[0m\u001b[0m\n\u001b[1;32m    219\u001b[0m         \u001b[0;31m# don't warn on NotImplementedErrors\u001b[0m\u001b[0;34m\u001b[0m\u001b[0;34m\u001b[0m\u001b[0m\n",
      "\u001b[0;32m/anaconda/lib/python2.7/site-packages/IPython/core/formatters.pyc\u001b[0m in \u001b[0;36m__call__\u001b[0;34m(self, obj)\u001b[0m\n\u001b[1;32m    332\u001b[0m                 \u001b[0;32mpass\u001b[0m\u001b[0;34m\u001b[0m\u001b[0m\n\u001b[1;32m    333\u001b[0m             \u001b[0;32melse\u001b[0m\u001b[0;34m:\u001b[0m\u001b[0;34m\u001b[0m\u001b[0m\n\u001b[0;32m--> 334\u001b[0;31m                 \u001b[0;32mreturn\u001b[0m \u001b[0mprinter\u001b[0m\u001b[0;34m(\u001b[0m\u001b[0mobj\u001b[0m\u001b[0;34m)\u001b[0m\u001b[0;34m\u001b[0m\u001b[0m\n\u001b[0m\u001b[1;32m    335\u001b[0m             \u001b[0;31m# Finally look for special method names\u001b[0m\u001b[0;34m\u001b[0m\u001b[0;34m\u001b[0m\u001b[0m\n\u001b[1;32m    336\u001b[0m             \u001b[0mmethod\u001b[0m \u001b[0;34m=\u001b[0m \u001b[0mget_real_method\u001b[0m\u001b[0;34m(\u001b[0m\u001b[0mobj\u001b[0m\u001b[0;34m,\u001b[0m \u001b[0mself\u001b[0m\u001b[0;34m.\u001b[0m\u001b[0mprint_method\u001b[0m\u001b[0;34m)\u001b[0m\u001b[0;34m\u001b[0m\u001b[0m\n",
      "\u001b[0;32m/anaconda/lib/python2.7/site-packages/IPython/core/pylabtools.pyc\u001b[0m in \u001b[0;36m<lambda>\u001b[0;34m(fig)\u001b[0m\n\u001b[1;32m    238\u001b[0m \u001b[0;34m\u001b[0m\u001b[0m\n\u001b[1;32m    239\u001b[0m     \u001b[0;32mif\u001b[0m \u001b[0;34m'png'\u001b[0m \u001b[0;32min\u001b[0m \u001b[0mformats\u001b[0m\u001b[0;34m:\u001b[0m\u001b[0;34m\u001b[0m\u001b[0m\n\u001b[0;32m--> 240\u001b[0;31m         \u001b[0mpng_formatter\u001b[0m\u001b[0;34m.\u001b[0m\u001b[0mfor_type\u001b[0m\u001b[0;34m(\u001b[0m\u001b[0mFigure\u001b[0m\u001b[0;34m,\u001b[0m \u001b[0;32mlambda\u001b[0m \u001b[0mfig\u001b[0m\u001b[0;34m:\u001b[0m \u001b[0mprint_figure\u001b[0m\u001b[0;34m(\u001b[0m\u001b[0mfig\u001b[0m\u001b[0;34m,\u001b[0m \u001b[0;34m'png'\u001b[0m\u001b[0;34m,\u001b[0m \u001b[0;34m**\u001b[0m\u001b[0mkwargs\u001b[0m\u001b[0;34m)\u001b[0m\u001b[0;34m)\u001b[0m\u001b[0;34m\u001b[0m\u001b[0m\n\u001b[0m\u001b[1;32m    241\u001b[0m     \u001b[0;32mif\u001b[0m \u001b[0;34m'retina'\u001b[0m \u001b[0;32min\u001b[0m \u001b[0mformats\u001b[0m \u001b[0;32mor\u001b[0m \u001b[0;34m'png2x'\u001b[0m \u001b[0;32min\u001b[0m \u001b[0mformats\u001b[0m\u001b[0;34m:\u001b[0m\u001b[0;34m\u001b[0m\u001b[0m\n\u001b[1;32m    242\u001b[0m         \u001b[0mpng_formatter\u001b[0m\u001b[0;34m.\u001b[0m\u001b[0mfor_type\u001b[0m\u001b[0;34m(\u001b[0m\u001b[0mFigure\u001b[0m\u001b[0;34m,\u001b[0m \u001b[0;32mlambda\u001b[0m \u001b[0mfig\u001b[0m\u001b[0;34m:\u001b[0m \u001b[0mretina_figure\u001b[0m\u001b[0;34m(\u001b[0m\u001b[0mfig\u001b[0m\u001b[0;34m,\u001b[0m \u001b[0;34m**\u001b[0m\u001b[0mkwargs\u001b[0m\u001b[0;34m)\u001b[0m\u001b[0;34m)\u001b[0m\u001b[0;34m\u001b[0m\u001b[0m\n",
      "\u001b[0;32m/anaconda/lib/python2.7/site-packages/IPython/core/pylabtools.pyc\u001b[0m in \u001b[0;36mprint_figure\u001b[0;34m(fig, fmt, bbox_inches, **kwargs)\u001b[0m\n\u001b[1;32m    122\u001b[0m \u001b[0;34m\u001b[0m\u001b[0m\n\u001b[1;32m    123\u001b[0m     \u001b[0mbytes_io\u001b[0m \u001b[0;34m=\u001b[0m \u001b[0mBytesIO\u001b[0m\u001b[0;34m(\u001b[0m\u001b[0;34m)\u001b[0m\u001b[0;34m\u001b[0m\u001b[0m\n\u001b[0;32m--> 124\u001b[0;31m     \u001b[0mfig\u001b[0m\u001b[0;34m.\u001b[0m\u001b[0mcanvas\u001b[0m\u001b[0;34m.\u001b[0m\u001b[0mprint_figure\u001b[0m\u001b[0;34m(\u001b[0m\u001b[0mbytes_io\u001b[0m\u001b[0;34m,\u001b[0m \u001b[0;34m**\u001b[0m\u001b[0mkw\u001b[0m\u001b[0;34m)\u001b[0m\u001b[0;34m\u001b[0m\u001b[0m\n\u001b[0m\u001b[1;32m    125\u001b[0m     \u001b[0mdata\u001b[0m \u001b[0;34m=\u001b[0m \u001b[0mbytes_io\u001b[0m\u001b[0;34m.\u001b[0m\u001b[0mgetvalue\u001b[0m\u001b[0;34m(\u001b[0m\u001b[0;34m)\u001b[0m\u001b[0;34m\u001b[0m\u001b[0m\n\u001b[1;32m    126\u001b[0m     \u001b[0;32mif\u001b[0m \u001b[0mfmt\u001b[0m \u001b[0;34m==\u001b[0m \u001b[0;34m'svg'\u001b[0m\u001b[0;34m:\u001b[0m\u001b[0;34m\u001b[0m\u001b[0m\n",
      "\u001b[0;32m/anaconda/lib/python2.7/site-packages/matplotlib/backend_bases.pyc\u001b[0m in \u001b[0;36mprint_figure\u001b[0;34m(self, filename, dpi, facecolor, edgecolor, orientation, format, **kwargs)\u001b[0m\n\u001b[1;32m   2206\u001b[0m                     \u001b[0morientation\u001b[0m\u001b[0;34m=\u001b[0m\u001b[0morientation\u001b[0m\u001b[0;34m,\u001b[0m\u001b[0;34m\u001b[0m\u001b[0m\n\u001b[1;32m   2207\u001b[0m                     \u001b[0mdryrun\u001b[0m\u001b[0;34m=\u001b[0m\u001b[0mTrue\u001b[0m\u001b[0;34m,\u001b[0m\u001b[0;34m\u001b[0m\u001b[0m\n\u001b[0;32m-> 2208\u001b[0;31m                     **kwargs)\n\u001b[0m\u001b[1;32m   2209\u001b[0m                 \u001b[0mrenderer\u001b[0m \u001b[0;34m=\u001b[0m \u001b[0mself\u001b[0m\u001b[0;34m.\u001b[0m\u001b[0mfigure\u001b[0m\u001b[0;34m.\u001b[0m\u001b[0m_cachedRenderer\u001b[0m\u001b[0;34m\u001b[0m\u001b[0m\n\u001b[1;32m   2210\u001b[0m                 \u001b[0mbbox_inches\u001b[0m \u001b[0;34m=\u001b[0m \u001b[0mself\u001b[0m\u001b[0;34m.\u001b[0m\u001b[0mfigure\u001b[0m\u001b[0;34m.\u001b[0m\u001b[0mget_tightbbox\u001b[0m\u001b[0;34m(\u001b[0m\u001b[0mrenderer\u001b[0m\u001b[0;34m)\u001b[0m\u001b[0;34m\u001b[0m\u001b[0m\n",
      "\u001b[0;32m/anaconda/lib/python2.7/site-packages/matplotlib/backends/backend_agg.pyc\u001b[0m in \u001b[0;36mprint_png\u001b[0;34m(self, filename_or_obj, *args, **kwargs)\u001b[0m\n\u001b[1;32m    524\u001b[0m         \u001b[0;32mtry\u001b[0m\u001b[0;34m:\u001b[0m\u001b[0;34m\u001b[0m\u001b[0m\n\u001b[1;32m    525\u001b[0m             _png.write_png(renderer._renderer, filename_or_obj,\n\u001b[0;32m--> 526\u001b[0;31m                            self.figure.dpi, metadata=metadata)\n\u001b[0m\u001b[1;32m    527\u001b[0m         \u001b[0;32mfinally\u001b[0m\u001b[0;34m:\u001b[0m\u001b[0;34m\u001b[0m\u001b[0m\n\u001b[1;32m    528\u001b[0m             \u001b[0;32mif\u001b[0m \u001b[0mclose\u001b[0m\u001b[0;34m:\u001b[0m\u001b[0;34m\u001b[0m\u001b[0m\n",
      "\u001b[0;31mKeyboardInterrupt\u001b[0m: "
     ]
    }
   ],
   "source": [
    "\n",
    "for i in range(1000):\n",
    "    plt.figure(figsize=(9,9))\n",
    "    plt.xlim((0,w))\n",
    "    plt.ylim((0,h))  \n",
    "    plt.xticks([])\n",
    "    plt.yticks([])\n",
    "    clear_output(True)    \n",
    "    \n",
    "    for room in area.rooms:\n",
    "        lu = room.left_upper\n",
    "        x1,y1 = lu\n",
    "        rb = room.right_bottom\n",
    "        x2,y2=rb\n",
    "        #print x1,x2,y1,y2\n",
    "        plt.plot([x2,x2,x1,x1,x2], [y1,y2,y2,y1,y1], c='b')\n",
    "\n",
    "    for door in area.doors:\n",
    "        plt.plot(\n",
    "            [door.ptstart[0], door.ptend[0]], \n",
    "            [door.ptstart[1], door.ptend[1]], \n",
    "            c='r', \n",
    "            linewidth=3\n",
    "        )\n",
    "\n",
    "    plt.scatter(area.X_crowd, area.Y_crowd, s=50)\n",
    "        \n",
    "#         print 'rooms counts:', json.dumps(\n",
    "#             {room_names[str(k)]: v for k,v in Counter(self.crowd_rooms).items()}, \n",
    "#             indent=4,\n",
    "#         )\n",
    "#         print 'people:', json.dumps(\n",
    "#             dict(zip(names,[room_names[str(k)] for k in self.crowd_rooms])), \n",
    "#             indent=4,\n",
    "#         )\n",
    "    \n",
    "    plt.show()\n",
    "    \n",
    "    area.make_iteration()  \n"
   ]
  },
  {
   "cell_type": "code",
   "execution_count": null,
   "metadata": {
    "collapsed": true
   },
   "outputs": [],
   "source": []
  },
  {
   "cell_type": "code",
   "execution_count": null,
   "metadata": {
    "collapsed": true
   },
   "outputs": [],
   "source": []
  },
  {
   "cell_type": "code",
   "execution_count": null,
   "metadata": {
    "collapsed": true
   },
   "outputs": [],
   "source": []
  },
  {
   "cell_type": "code",
   "execution_count": null,
   "metadata": {
    "collapsed": true
   },
   "outputs": [],
   "source": []
  },
  {
   "cell_type": "code",
   "execution_count": null,
   "metadata": {
    "collapsed": true
   },
   "outputs": [],
   "source": []
  },
  {
   "cell_type": "code",
   "execution_count": null,
   "metadata": {
    "collapsed": true
   },
   "outputs": [],
   "source": []
  },
  {
   "cell_type": "code",
   "execution_count": null,
   "metadata": {
    "collapsed": true
   },
   "outputs": [],
   "source": []
  },
  {
   "cell_type": "code",
   "execution_count": null,
   "metadata": {
    "collapsed": true
   },
   "outputs": [],
   "source": []
  },
  {
   "cell_type": "code",
   "execution_count": null,
   "metadata": {
    "collapsed": true
   },
   "outputs": [],
   "source": []
  }
 ],
 "metadata": {
  "kernelspec": {
   "display_name": "Python 2",
   "language": "python",
   "name": "python2"
  },
  "language_info": {
   "codemirror_mode": {
    "name": "ipython",
    "version": 2
   },
   "file_extension": ".py",
   "mimetype": "text/x-python",
   "name": "python",
   "nbconvert_exporter": "python",
   "pygments_lexer": "ipython2",
   "version": "2.7.14"
  }
 },
 "nbformat": 4,
 "nbformat_minor": 2
}
